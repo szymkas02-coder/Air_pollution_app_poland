{
 "cells": [
  {
   "cell_type": "code",
   "execution_count": 1,
   "id": "abc57419",
   "metadata": {},
   "outputs": [
    {
     "name": "stdout",
     "output_type": "stream",
     "text": [
      "✅ requirements.txt został wygenerowany!\n"
     ]
    },
    {
     "name": "stderr",
     "output_type": "stream",
     "text": [
      "C:\\Users\\szymo\\AppData\\Local\\Temp\\ipykernel_15772\\450439435.py:1: DeprecationWarning: pkg_resources is deprecated as an API. See https://setuptools.pypa.io/en/latest/pkg_resources.html\n",
      "  import pkg_resources\n"
     ]
    }
   ],
   "source": [
    "import pkg_resources\n",
    "\n",
    "# Pobierz wszystkie zainstalowane pakiety\n",
    "installed_packages = pkg_resources.working_set\n",
    "\n",
    "# Sortuj alfabetycznie\n",
    "packages = sorted([f\"{p.key}=={p.version}\" for p in installed_packages])\n",
    "\n",
    "# Zapisz do requirements.txt\n",
    "with open(\"requirements.txt\", \"w\") as f:\n",
    "    f.write(\"\\n\".join(packages))\n",
    "\n",
    "print(\"✅ requirements.txt został wygenerowany!\")"
   ]
  },
  {
   "cell_type": "code",
   "execution_count": 1,
   "id": "d7c30290",
   "metadata": {},
   "outputs": [
    {
     "name": "stdout",
     "output_type": "stream",
     "text": [
      "✅ requirements.txt wygenerowany z wersjami\n"
     ]
    },
    {
     "name": "stderr",
     "output_type": "stream",
     "text": [
      "C:\\Users\\szymo\\AppData\\Local\\Temp\\ipykernel_18548\\2329431876.py:1: DeprecationWarning: pkg_resources is deprecated as an API. See https://setuptools.pypa.io/en/latest/pkg_resources.html\n",
      "  import pkg_resources\n"
     ]
    }
   ],
   "source": [
    "import pkg_resources\n",
    "\n",
    "packages = [\n",
    "    \"cdsapi\",\n",
    "    \"xarray\",\n",
    "    \"pandas\",\n",
    "    \"numpy\",\n",
    "    \"streamlit\",\n",
    "    \"plotly\",\n",
    "    \"folium\",\n",
    "    \"streamlit-folium\",\n",
    "    \"matplotlib\",\n",
    "    \"Pillow\",\n",
    "    \"rasterio\",\n",
    "    \"branca\",\n",
    "    \"jinja2\",\n",
    "]\n",
    "\n",
    "installed = {p.key: p.version for p in pkg_resources.working_set}\n",
    "\n",
    "with open(\"requirements.txt\", \"w\") as f:\n",
    "    for pkg in packages:\n",
    "        key = pkg.lower()\n",
    "        version = installed.get(key)\n",
    "        if version:\n",
    "            f.write(f\"{pkg}=={version}\\n\")\n",
    "        else:\n",
    "            f.write(f\"{pkg}\\n\")\n",
    "\n",
    "print(\"✅ requirements.txt wygenerowany z wersjami\")\n"
   ]
  }
 ],
 "metadata": {
  "kernelspec": {
   "display_name": "geo",
   "language": "python",
   "name": "python3"
  },
  "language_info": {
   "codemirror_mode": {
    "name": "ipython",
    "version": 3
   },
   "file_extension": ".py",
   "mimetype": "text/x-python",
   "name": "python",
   "nbconvert_exporter": "python",
   "pygments_lexer": "ipython3",
   "version": "3.11.13"
  }
 },
 "nbformat": 4,
 "nbformat_minor": 5
}
